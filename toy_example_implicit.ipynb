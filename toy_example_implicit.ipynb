{
 "cells": [
  {
   "cell_type": "markdown",
   "metadata": {},
   "source": [
    "Author: Alexis Laignelet\n",
    "\n",
    "Date: 06/09/19"
   ]
  },
  {
   "cell_type": "markdown",
   "metadata": {},
   "source": [
    "# Import packages"
   ]
  },
  {
   "cell_type": "code",
   "execution_count": 1,
   "metadata": {},
   "outputs": [],
   "source": [
    "import numpy as np\n",
    "import torch\n",
    "import torch.optim as optim\n",
    "import copy\n",
    "import matplotlib.pyplot as plt\n",
    "from scipy.stats import ortho_group"
   ]
  },
  {
   "cell_type": "markdown",
   "metadata": {},
   "source": [
    "# Generate matrices"
   ]
  },
  {
   "cell_type": "code",
   "execution_count": 2,
   "metadata": {},
   "outputs": [],
   "source": [
    "# Generate the matrices A and b with a certain zise, and condition number\n",
    "# The problem to solve is 1/2||AX -b||^2\n",
    "\n",
    "def generate(m, n, cond):\n",
    "    \n",
    "    # For reproductibility purpose\n",
    "    np.random.seed(0)\n",
    "    torch.manual_seed(0)\n",
    "    \n",
    "    # Generate orthogonal matrices\n",
    "    U = ortho_group.rvs(dim=m)\n",
    "    V = ortho_group.rvs(dim=n)\n",
    "    \n",
    "    # Build the matrix of singular values\n",
    "    S = np.diag(np.linspace(1, cond, n))\n",
    "    S = np.vstack((S, np.zeros((m-n, n))))\n",
    "    \n",
    "    # Build A and b\n",
    "    A = U @ S @ V.T\n",
    "    b = torch.rand(m).reshape(m,1)\n",
    "    A = torch.from_numpy(A).float()\n",
    "    \n",
    "    return A, b"
   ]
  },
  {
   "cell_type": "code",
   "execution_count": 3,
   "metadata": {},
   "outputs": [],
   "source": [
    "# Size of matrices and condition number of A\n",
    "\n",
    "m = 30\n",
    "n = 20\n",
    "cond = 1000\n",
    "\n",
    "A, b = generate(m, n, cond)"
   ]
  },
  {
   "cell_type": "markdown",
   "metadata": {},
   "source": [
    "# Objective function"
   ]
  },
  {
   "cell_type": "code",
   "execution_count": 4,
   "metadata": {},
   "outputs": [],
   "source": [
    "# Define the problem to solve\n",
    "\n",
    "def obj(X):\n",
    "    return 1/2*torch.norm(torch.mm(A,X) - b, 2)**2"
   ]
  },
  {
   "cell_type": "markdown",
   "metadata": {},
   "source": [
    "\n",
    "# Explicit scheme"
   ]
  },
  {
   "cell_type": "code",
   "execution_count": 5,
   "metadata": {},
   "outputs": [],
   "source": [
    "# Define the learning rate and number of iterations\n",
    "\n",
    "lr = 2 / (1 + cond**2)\n",
    "nb_iter = 20"
   ]
  },
  {
   "cell_type": "code",
   "execution_count": 6,
   "metadata": {},
   "outputs": [],
   "source": [
    "# Instanciate X to be optimised\n",
    "\n",
    "torch.manual_seed(0)\n",
    "X = torch.rand(n).reshape(n, 1)\n",
    "X.requires_grad=True"
   ]
  },
  {
   "cell_type": "code",
   "execution_count": 7,
   "metadata": {},
   "outputs": [],
   "source": [
    "# Empty list to store loss values\n",
    "train_loss = np.array([])\n",
    "\n",
    "# Loop through the iterations\n",
    "for t in range(nb_iter):\n",
    "    \n",
    "    # Calculate the loss\n",
    "    loss = obj(X)\n",
    "    \n",
    "    # Store the value\n",
    "    train_loss = np.append(train_loss, loss.detach().numpy())\n",
    "    \n",
    "    # Calculate every gradients\n",
    "    loss.backward()\n",
    "\n",
    "    # Exclude the update from the graph\n",
    "    with torch.no_grad():\n",
    "        X -= lr * X.grad\n",
    "        X.grad.zero_()"
   ]
  },
  {
   "cell_type": "markdown",
   "metadata": {},
   "source": [
    "# Implicit scheme"
   ]
  },
  {
   "cell_type": "code",
   "execution_count": 8,
   "metadata": {},
   "outputs": [],
   "source": [
    "# Value of tau (learning rate for implicit scheme)\n",
    "\n",
    "tau = 1"
   ]
  },
  {
   "cell_type": "code",
   "execution_count": 9,
   "metadata": {},
   "outputs": [],
   "source": [
    "# The implementation in done in Numpy\n",
    "\n",
    "def obj_np(X):\n",
    "    return 1/2*np.linalg.norm(A @ X - b, 2)**2"
   ]
  },
  {
   "cell_type": "code",
   "execution_count": 10,
   "metadata": {},
   "outputs": [],
   "source": [
    "# Instanciate X to be optimised\n",
    "\n",
    "torch.manual_seed(0)\n",
    "X = torch.rand(n).reshape(n, 1)\n",
    "X.requires_grad=True"
   ]
  },
  {
   "cell_type": "code",
   "execution_count": 11,
   "metadata": {},
   "outputs": [],
   "source": [
    "# Convert into Numpy\n",
    "\n",
    "X = X.detach().numpy()\n",
    "A = A.numpy()\n",
    "b = b.numpy()"
   ]
  },
  {
   "cell_type": "code",
   "execution_count": 12,
   "metadata": {},
   "outputs": [],
   "source": [
    "# Define empty list to store loss values\n",
    "train_loss_implicit = np.array([])\n",
    "\n",
    "# Go through every iterations\n",
    "for it in range(nb_iter):\n",
    "                \n",
    "    # Compute loss\n",
    "    loss = obj_np(X)\n",
    "                \n",
    "    # Store the current value of the loss\n",
    "    train_loss_implicit = np.append(train_loss_implicit, loss)\n",
    "    \n",
    "    # Exact solution of the \n",
    "    X = np.linalg.inv(tau * A.T @ A + np.eye(n)) @ (tau * A.T @ b + X)"
   ]
  },
  {
   "cell_type": "code",
   "execution_count": 13,
   "metadata": {},
   "outputs": [
    {
     "data": {
      "image/png": "[encoded data removed]",
      "text/plain": [
       "<Figure size 432x288 with 1 Axes>"
      ]
     },
     "metadata": {
      "needs_background": "light"
     },
     "output_type": "display_data"
    }
   ],
   "source": [
    "# Plot the results\n",
    "\n",
    "plt.plot(train_loss_implicit, label='Implicit')\n",
    "plt.plot(train_loss, label='Explicit')\n",
    "plt.xlabel('Iterations')\n",
    "plt.ylabel('Value')\n",
    "plt.title('Loss function')\n",
    "plt.legend();"
   ]
  },
  {
   "cell_type": "code",
   "execution_count": null,
   "metadata": {},
   "outputs": [],
   "source": []
  }
 ],
 "metadata": {
  "kernelspec": {
   "display_name": "Python 3",
   "language": "python",
   "name": "python3"
  },
  "language_info": {
   "codemirror_mode": {
    "name": "ipython",
    "version": 3
   },
   "file_extension": ".py",
   "mimetype": "text/x-python",
   "name": "python",
   "nbconvert_exporter": "python",
   "pygments_lexer": "ipython3",
   "version": "3.6.8"
  },
  "varInspector": {
   "cols": {
    "lenName": 16,
    "lenType": 16,
    "lenVar": 40
   },
   "kernels_config": {
    "python": {
     "delete_cmd_postfix": "",
     "delete_cmd_prefix": "del ",
     "library": "var_list.py",
     "varRefreshCmd": "print(var_dic_list())"
    },
    "r": {
     "delete_cmd_postfix": ") ",
     "delete_cmd_prefix": "rm(",
     "library": "var_list.r",
     "varRefreshCmd": "cat(var_dic_list()) "
    }
   },
   "types_to_exclude": [
    "module",
    "function",
    "builtin_function_or_method",
    "instance",
    "_Feature"
   ],
   "window_display": false
  }
 },
 "nbformat": 4,
 "nbformat_minor": 2
}
