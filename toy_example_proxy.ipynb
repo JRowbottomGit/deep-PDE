{
 "cells": [
  {
   "cell_type": "markdown",
   "metadata": {},
   "source": [
    "Author: Alexis Laignelet\n",
    "\n",
    "Date: 06/09/19"
   ]
  },
  {
   "cell_type": "markdown",
   "metadata": {},
   "source": [
    "# Import packages"
   ]
  },
  {
   "cell_type": "code",
   "execution_count": 1,
   "metadata": {},
   "outputs": [],
   "source": [
    "import matplotlib.pyplot as plt\n",
    "import torch\n",
    "import torch.nn.functional as F\n",
    "import numpy as np\n",
    "import torch.nn as nn"
   ]
  },
  {
   "cell_type": "markdown",
   "metadata": {},
   "source": [
    "# Build the dataset"
   ]
  },
  {
   "cell_type": "code",
   "execution_count": 2,
   "metadata": {},
   "outputs": [],
   "source": [
    "# Define the parameters\n",
    "\n",
    "nb = 50\n",
    "mu = 0\n",
    "sigma = 0.1\n",
    "x_min = -2\n",
    "x_max = 2"
   ]
  },
  {
   "cell_type": "code",
   "execution_count": 3,
   "metadata": {},
   "outputs": [],
   "source": [
    "# Build the true function\n",
    "\n",
    "def true_function(x):\n",
    "    return (x-2)* np.sin(2*x)"
   ]
  },
  {
   "cell_type": "code",
   "execution_count": 4,
   "metadata": {},
   "outputs": [],
   "source": [
    "x = np.linspace(x_min, x_max, nb)"
   ]
  },
  {
   "cell_type": "code",
   "execution_count": 5,
   "metadata": {},
   "outputs": [
    {
     "data": {
      "image/png": "[encoded data removed]",
      "text/plain": [
       "<Figure size 432x288 with 1 Axes>"
      ]
     },
     "metadata": {
      "needs_background": "light"
     },
     "output_type": "display_data"
    }
   ],
   "source": [
    "plt.plot(x, true_function(x), color='black')\n",
    "plt.xlabel('x')\n",
    "plt.ylabel('f')\n",
    "plt.title('True function');"
   ]
  },
  {
   "cell_type": "code",
   "execution_count": 6,
   "metadata": {},
   "outputs": [],
   "source": [
    "# Define disturbance\n",
    "\n",
    "np.random.seed(1)\n",
    "eps = np.random.normal(mu, sigma, nb)"
   ]
  },
  {
   "cell_type": "code",
   "execution_count": 7,
   "metadata": {},
   "outputs": [],
   "source": [
    "# Define points y\n",
    "\n",
    "y = true_function(x) + eps"
   ]
  },
  {
   "cell_type": "code",
   "execution_count": 8,
   "metadata": {},
   "outputs": [
    {
     "data": {
      "image/png": "[encoded data removed]",
      "text/plain": [
       "<Figure size 432x288 with 1 Axes>"
      ]
     },
     "metadata": {
      "needs_background": "light"
     },
     "output_type": "display_data"
    }
   ],
   "source": [
    "plt.scatter(x, y, color = 'black')\n",
    "plt.xlabel('x')\n",
    "plt.ylabel('y_true')\n",
    "plt.title('Dataset');"
   ]
  },
  {
   "cell_type": "markdown",
   "metadata": {},
   "source": [
    "# Define the model\n",
    "\n",
    "This correspond to a conventional neural network, using SGD."
   ]
  },
  {
   "cell_type": "code",
   "execution_count": 9,
   "metadata": {},
   "outputs": [],
   "source": [
    "class NeuralNet(torch.nn.Module):\n",
    "  \n",
    "    def __init__(self, D_in, H1, H2, D_out):\n",
    "        super(NeuralNet, self).__init__()\n",
    "        self.linear1 = torch.nn.Linear(D_in, H1)\n",
    "        self.linear2 = torch.nn.Linear(H1, H2)\n",
    "        self.linear3 = torch.nn.Linear(H2, D_out)\n",
    "\n",
    "    def forward(self, x):\n",
    "        x = self.linear1(x)\n",
    "        x = F.relu(x)\n",
    "        x = self.linear2(x)\n",
    "        x = F.relu(x)\n",
    "        x = self.linear3(x)\n",
    "        return x"
   ]
  },
  {
   "cell_type": "code",
   "execution_count": 10,
   "metadata": {},
   "outputs": [],
   "source": [
    "def SGD(nb_iter, lr):\n",
    "    torch.manual_seed(0)\n",
    "    \n",
    "    # Empty array to store values\n",
    "    train_loss = np.array([])\n",
    "    \n",
    "    # Define loss function\n",
    "    loss_fn = torch.nn.MSELoss(reduction='sum')\n",
    "    \n",
    "    # Instanciate the model\n",
    "    model = NeuralNet(D_in, H1, H2, D_out)\n",
    "    \n",
    "    # Define the optimiser\n",
    "    optimizer = torch.optim.SGD(model.parameters(), lr=lr)\n",
    "\n",
    "    for t in range(nb_iter):\n",
    "        # Forward pass: Compute predicted y by passing x to the model\n",
    "        y_pred = model(x)\n",
    "\n",
    "        # Compute loss\n",
    "        loss = loss_fn(y_pred, y)\n",
    "\n",
    "        # Store values\n",
    "        train_loss = np.append(train_loss, loss.detach().numpy())\n",
    "\n",
    "        # Zero gradients, perform a backward pass, and update the weights.\n",
    "        optimizer.zero_grad()\n",
    "        loss.backward()\n",
    "        optimizer.step()\n",
    "\n",
    "    return train_loss"
   ]
  },
  {
   "cell_type": "markdown",
   "metadata": {},
   "source": [
    "# Define proxy neural network"
   ]
  },
  {
   "cell_type": "code",
   "execution_count": 11,
   "metadata": {},
   "outputs": [],
   "source": [
    "class activation_function(nn.Module):\n",
    "    def __init__(self):\n",
    "        super(activation_function, self).__init__()\n",
    "\n",
    "    def forward(self, x):\n",
    "        return F.relu(x)"
   ]
  },
  {
   "cell_type": "code",
   "execution_count": 12,
   "metadata": {},
   "outputs": [],
   "source": [
    "class NeuralFBSNN(torch.nn.Module):\n",
    "    def __init__(self, list_layers):\n",
    "        super(NeuralFBSNN, self).__init__()\n",
    "        \n",
    "        # Empty list to store layers\n",
    "        self.layers = []\n",
    "\n",
    "        numLayers = len(list_layers)\n",
    "        \n",
    "        # Add the differents layers: neurons and activation function\n",
    "        for i in range(numLayers - 2):\n",
    "            self.layers.append(nn.Linear(list_layers[i], list_layers[i+1]))\n",
    "            self.layers.append(activation_function())\n",
    "        self.layers.append(nn.Linear(list_layers[-2], list_layers[-1]))\n",
    "\n",
    "    def forward(self, x):\n",
    "        # Empty list to store intermediate values\n",
    "        ai = []\n",
    "        zi = []\n",
    "        y = x\n",
    "        \n",
    "        # Compute a forward pass and store values before (zi) and after activation function (ai)\n",
    "        for i in range(len(self.layers)):\n",
    "            y = self.layers[i](y)\n",
    "            if (type(self.layers[i]) == nn.Linear) and (i < len(self.layers)-1):\n",
    "                zi.append(y)\n",
    "            elif i < len(self.layers)-1:\n",
    "                ai.append(y)                \n",
    "        return ai, zi, y"
   ]
  },
  {
   "cell_type": "code",
   "execution_count": 13,
   "metadata": {},
   "outputs": [],
   "source": [
    "def solve_implicit(A, Y, Z, beta):\n",
    "    # Provide the exact solution of the proximal\n",
    "    AA = A.t().mm(A)\n",
    "    I = torch.eye(A.size(1)).type_as(A)\n",
    "    A_tilde = AA + beta * I\n",
    "    b_tilde = A.t().mm(Y) + beta*Z\n",
    "    X, _ = torch.solve(b_tilde, A_tilde)\n",
    "    \n",
    "    return X"
   ]
  },
  {
   "cell_type": "code",
   "execution_count": 14,
   "metadata": {},
   "outputs": [],
   "source": [
    "def FBSNN(tau, nb_iter, lr):\n",
    "    torch.manual_seed(0)\n",
    "    \n",
    "    # Empty array to store values\n",
    "    train_loss = np.array([])\n",
    "    \n",
    "    # Instantiate the model\n",
    "    model = NeuralFBSNN(list_layers)\n",
    "    \n",
    "    # Define the loss function\n",
    "    loss_fn = torch.nn.MSELoss(reduction='sum')\n",
    "\n",
    "    # Define the activation function\n",
    "    sigma = activation_function()\n",
    "    act = lambda x: sigma.forward(x)\n",
    "    \n",
    "    # Loop over the number of iterations\n",
    "    for t in range(nb_iter):\n",
    "\n",
    "        # Retrieve the intermediate results and the prediction\n",
    "        a, z, y_pred = model(x)\n",
    "\n",
    "        #########################################\n",
    "        #     Update a_{L-2} and theta_{L-1}    #\n",
    "        #########################################\n",
    "        \n",
    "        # aL-2 is the output of the penultimate layer\n",
    "        aL2 = a[-1]\n",
    "        \n",
    "        # Add a column of 1 to take into accout the bias\n",
    "        aL2 = torch.cat((aL2, torch.ones(aL2.shape[0], 1)), 1)\n",
    "    \n",
    "        # Compute thetaL-1\n",
    "        weight = model.layers[-1].weight\n",
    "        bias = model.layers[-1].bias.reshape(model.layers[-1].weight.shape[0],1)\n",
    "        thetaL1 = torch.cat((weight, bias), 1).t()\n",
    "        \n",
    "        # Make a prediction\n",
    "        y_pred = torch.mm(aL2, thetaL1)\n",
    "    \n",
    "        # Compute the loss\n",
    "        loss = loss_fn(y_pred, y)\n",
    "        \n",
    "        # Compute the gradient of the loss with respect to aL-2\n",
    "        grad_aL2 = torch.autograd.grad(outputs=[loss], inputs=[aL2], grad_outputs=torch.ones_like(loss),\n",
    "                                       allow_unused=True, retain_graph=True, create_graph=True)[0]\n",
    "        \n",
    "        # Compute the gradient of the loss with respect to thetaL-1\n",
    "        grad_thetaL1 = torch.autograd.grad(outputs=[loss], inputs=[thetaL1], grad_outputs=torch.ones_like(loss),\n",
    "                                           allow_unused=True, retain_graph=True, create_graph=True)[0]\n",
    "        \n",
    "        # Update aL-2\n",
    "        aL2_update = aL2 - lr * grad_aL2\n",
    "        thetaL1_update = thetaL1 - lr * grad_thetaL1\n",
    "        \n",
    "        # Update the list of ai with the updated aL-2\n",
    "        a[-1] = aL2_update\n",
    "\n",
    "        # Assign the weights\n",
    "        model.layers[-1].weight = torch.nn.Parameter(thetaL1_update.t()[:,:-1])\n",
    "        model.layers[-1].bias = torch.nn.Parameter(thetaL1_update.t()[:,-1])\n",
    "\n",
    "        #########################################\n",
    "        # Update every z_i, a_{i-1} and theta_i #\n",
    "        #########################################\n",
    "        \n",
    "        # Loop over the layers\n",
    "        for i in range(len(a)-1):\n",
    "            \n",
    "            # Define current zi\n",
    "            zi = z[-i-1]\n",
    "            \n",
    "            # Forward pass through the activation function\n",
    "            activ_fun = act(zi)\n",
    "            \n",
    "            # Compute the gradient of the activation function with respect to zi\n",
    "            grad_act = torch.autograd.grad(outputs=[activ_fun], inputs=[zi], grad_outputs=torch.ones_like(activ_fun),\n",
    "                                       allow_unused=True, retain_graph=True, create_graph=True)[0]\n",
    "            \n",
    "            # Update zi\n",
    "            zi_update = zi - grad_act * (act(zi) -  a[-i-1][:, :-1])\n",
    "            \n",
    "            # Define current ai-1\n",
    "            ai1 = a[-i-2]\n",
    "            \n",
    "            # Add a column of ones to take into account the bias\n",
    "            ai1 = torch.cat((ai1, torch.ones(ai1.shape[0], 1)), 1)\n",
    "            \n",
    "            # Compute thetai\n",
    "            weight = model.layers[-1 -(2*(i+1))].weight\n",
    "            bias = model.layers[-1 -(2*(i+1))].bias.reshape(model.layers[-1 -(2*(i+1))].weight.shape[0],1)\n",
    "            thetai = torch.cat((weight, bias), 1).t()\n",
    "            \n",
    "            # Update ai-1\n",
    "            ai1_update = ai1 - torch.mm(torch.mm(ai1, thetai) - zi_update, thetai.t())\n",
    "            \n",
    "            # Update the list with the updated ai-1\n",
    "            a[-i-2] = ai1_update\n",
    "            \n",
    "            # Update thetai\n",
    "            thetai_update = solve_implicit(ai1, zi_update, thetai, 1/tau)\n",
    "            \n",
    "            # Assign weights\n",
    "            model.layers[-1 -(2*(i+1))].weight = torch.nn.Parameter(thetai_update.t()[:,:-1])\n",
    "            model.layers[-1 -(2*(i+1))].bias = torch.nn.Parameter(thetai_update.t()[:,-1])\n",
    "\n",
    "        #########################################\n",
    "        #              Update theta1            #\n",
    "        #########################################\n",
    "        \n",
    "        # Define z1\n",
    "        z1 = z[0]\n",
    "        \n",
    "        # Forward pass through activation function\n",
    "        activ_fun = act(z1)\n",
    "        \n",
    "        # Compute the gradient of the activation function with respect to z1\n",
    "        grad_act = torch.autograd.grad(outputs=[activ_fun], inputs=[z1], grad_outputs=torch.ones_like(activ_fun),\n",
    "                                       allow_unused=True, retain_graph=True, create_graph=True)[0]\n",
    "        \n",
    "        # Update z1\n",
    "        z1_update = z1 - grad_act * (act(z1) - a[0][:, :-1])\n",
    "        \n",
    "        # Compute theta1\n",
    "        weight = model.layers[0].weight\n",
    "        bias = model.layers[0].bias.reshape(model.layers[0].weight.shape[0],1)\n",
    "        theta1 = torch.cat((weight, bias), 1).t()\n",
    "        \n",
    "        # A0 is the input of the neural network\n",
    "        a0 = torch.cat((x, torch.ones(x.shape[0], 1)), 1)\n",
    "\n",
    "        # Update theta1\n",
    "        theta1_update = solve_implicit(a0, z1_update, theta1, 1/tau)\n",
    "        \n",
    "        # Assign weights\n",
    "        model.layers[0].weight = torch.nn.Parameter(theta1_update.t()[:,:-1])\n",
    "        model.layers[0].bias = torch.nn.Parameter(theta1_update.t()[:,-1])\n",
    "        \n",
    "        # Store the values of the loss function\n",
    "        train_loss = np.append(train_loss, loss.detach().numpy())\n",
    "\n",
    "    return train_loss"
   ]
  },
  {
   "cell_type": "markdown",
   "metadata": {},
   "source": [
    "# Comparison between both"
   ]
  },
  {
   "cell_type": "code",
   "execution_count": 15,
   "metadata": {},
   "outputs": [],
   "source": [
    "# Define the dataset\n",
    "\n",
    "x = torch.Tensor(x).reshape(nb,1)\n",
    "y = torch.Tensor(y).reshape(nb,1)"
   ]
  },
  {
   "cell_type": "code",
   "execution_count": 16,
   "metadata": {},
   "outputs": [],
   "source": [
    "# Parameters of the neural network\n",
    "\n",
    "D_in, H1, H2, D_out = 1, 10, 10, 1\n",
    "list_layers = [D_in, H1, H2, D_out]"
   ]
  },
  {
   "cell_type": "code",
   "execution_count": 17,
   "metadata": {},
   "outputs": [],
   "source": [
    "# Learning parameters\n",
    "\n",
    "lr = 2e-3\n",
    "nb_iter = 1000\n",
    "tau = 10"
   ]
  },
  {
   "cell_type": "code",
   "execution_count": 18,
   "metadata": {},
   "outputs": [],
   "source": [
    "# Run the models\n",
    "\n",
    "output_SGD = SGD(nb_iter, lr);\n",
    "output_FBSNN = FBSNN(tau, nb_iter, lr);"
   ]
  },
  {
   "cell_type": "code",
   "execution_count": 20,
   "metadata": {},
   "outputs": [
    {
     "data": {
      "image/png": "[encoded data removed]",
      "text/plain": [
       "<Figure size 432x288 with 1 Axes>"
      ]
     },
     "metadata": {
      "needs_background": "light"
     },
     "output_type": "display_data"
    }
   ],
   "source": [
    "plt.plot(output_SGD, label='SGD')\n",
    "plt.plot(output_FBSNN, label='Proxy')\n",
    "plt.xlabel('Iteration')\n",
    "plt.ylabel('Value')\n",
    "plt.title('Loss function')\n",
    "plt.legend()\n",
    "plt.yscale('log')"
   ]
  },
  {
   "cell_type": "code",
   "execution_count": null,
   "metadata": {},
   "outputs": [],
   "source": []
  }
 ],
 "metadata": {
  "kernelspec": {
   "display_name": "Python 3",
   "language": "python",
   "name": "python3"
  },
  "language_info": {
   "codemirror_mode": {
    "name": "ipython",
    "version": 3
   },
   "file_extension": ".py",
   "mimetype": "text/x-python",
   "name": "python",
   "nbconvert_exporter": "python",
   "pygments_lexer": "ipython3",
   "version": "3.6.8"
  },
  "varInspector": {
   "cols": {
    "lenName": 16,
    "lenType": 16,
    "lenVar": 40
   },
   "kernels_config": {
    "python": {
     "delete_cmd_postfix": "",
     "delete_cmd_prefix": "del ",
     "library": "var_list.py",
     "varRefreshCmd": "print(var_dic_list())"
    },
    "r": {
     "delete_cmd_postfix": ") ",
     "delete_cmd_prefix": "rm(",
     "library": "var_list.r",
     "varRefreshCmd": "cat(var_dic_list()) "
    }
   },
   "types_to_exclude": [
    "module",
    "function",
    "builtin_function_or_method",
    "instance",
    "_Feature"
   ],
   "window_display": false
  }
 },
 "nbformat": 4,
 "nbformat_minor": 2
}
